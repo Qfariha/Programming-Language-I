{
 "cells": [
  {
   "cell_type": "markdown",
   "metadata": {
    "id": "oMYzsTcnHEll"
   },
   "source": [
    "# CSE110 Lab Assignment 7 on Sorting and Searching\n",
    "\n",
    "Write your name, Student ID and CSE110 section below:\n"
   ]
  },
  {
   "cell_type": "code",
   "execution_count": null,
   "metadata": {
    "id": "ljd7OxU2gvWb"
   },
   "outputs": [],
   "source": [
    "#STUDENT NAME: Quazi Fariha Fairooz\n",
    "#STUDENT ID:21301531\n",
    "#CSE110 SECTION: 08"
   ]
  },
  {
   "cell_type": "markdown",
   "metadata": {
    "id": "jT-t2zlnHEll"
   },
   "source": [
    "## Write the Python code for the following problems:\n",
    "**<font color='red'>[MUST MAINTAIN VARIABLE NAMING CONVENTIONS FOR ALL THE TASKS]</font>**\n",
    "\n",
    "### Task 1\n",
    "\n",
    "Suppose you have a list named my_list as given below. <br/>\n",
    "my_list = [10,1,20,3,6,2,5,11,15,2,12,14,17,18,29] <br/>\n",
    "Now use bubble sort to sort my_list into ascending order.\n",
    "\n",
    "**Output**<br/>\n",
    "[1, 2, 2, 3, 5, 6, 10, 11, 12, 14, 15, 17, 18, 20, 29]"
   ]
  },
  {
   "cell_type": "code",
   "execution_count": 4,
   "metadata": {
    "id": "7qXVakLgHElm"
   },
   "outputs": [
    {
     "name": "stdout",
     "output_type": "stream",
     "text": [
      "[1, 2, 2, 3, 5, 6, 10, 11, 12, 14, 15, 17, 18, 20, 29]\n"
     ]
    }
   ],
   "source": [
    "#todo - Bubble sort starts arranging the elements from the top\n",
    "my_list = [10,1,20,3,6,2,5,11,15,2,12,14,17,18,29] \n",
    "for index1 in range(0,len(my_list)-1):\n",
    "    for index2 in range(0,len(my_list)-index1-1):  \n",
    "        left_num=my_list[index2]\n",
    "        right_num=my_list[index2+1]\n",
    "        if left_num>right_num:\n",
    "            temp=right_num\n",
    "            my_list[index2+1]=my_list[index2] #right_num=left_num\n",
    "            my_list[index2]=temp\n",
    "print(my_list)\n"
   ]
  },
  {
   "cell_type": "markdown",
   "metadata": {
    "id": "w1QgeWd2HElp"
   },
   "source": [
    "### Task 2\n",
    "\n",
    "Suppose you have a list named my_list as given below. <br/>\n",
    "my_list = [10,1,20,3,6,2,5,11,15,2,12,14,17,18,29] <br/>\n",
    "Now use selection sort to sort my_list into ascending order.\n",
    "\n",
    "**Output**<br/>\n",
    "[1, 2, 2, 3, 5, 6, 10, 11, 12, 14, 15, 17, 18, 20, 29]\n",
    "\n"
   ]
  },
  {
   "cell_type": "code",
   "execution_count": 5,
   "metadata": {
    "id": "am0B_8ICHElq"
   },
   "outputs": [
    {
     "name": "stdout",
     "output_type": "stream",
     "text": [
      "[1, 2, 2, 3, 5, 6, 10, 11, 12, 14, 15, 17, 18, 20, 29]\n"
     ]
    }
   ],
   "source": [
    "#todo Selection sort starts arranging the elements from the bottom\n",
    "my_list = [10,1,20,3,6,2,5,11,15,2,12,14,17,18,29] \n",
    "for index1 in range(len(my_list)-1): #loop will run -1\n",
    "    min_val=my_list[index1]\n",
    "    min_index=index1\n",
    "    \n",
    "    for index2 in range(index1+1,len(my_list)):\n",
    "        \n",
    "        if my_list[index2]<min_val:\n",
    "            min_val=my_list[index2]\n",
    "            min_index=index2\n",
    "    #swapping\n",
    "    #my_list[min_index],my_list[index1]=my_list[index1],my_list[min_index]  #works only in python\n",
    "    temp=min_val\n",
    "    my_list[min_index]=my_list[index1]\n",
    "    my_list[index1]=temp\n",
    "    \n",
    "    \n",
    "print(my_list)\n",
    "    \n",
    "        \n",
    "    "
   ]
  },
  {
   "cell_type": "code",
   "execution_count": 6,
   "metadata": {},
   "outputs": [
    {
     "name": "stdout",
     "output_type": "stream",
     "text": [
      "[29, 20, 18, 17, 15, 14, 12, 11, 10, 6, 5, 3, 2, 2, 1]\n"
     ]
    }
   ],
   "source": [
    "#DESCENDING\n",
    "my_list = [10,1,20,3,6,2,5,11,15,2,12,14,17,18,29] \n",
    "for index1 in range(len(my_list)-1): #loop will run -1\n",
    "    max_val=my_list[index1]\n",
    "    max_index=index1\n",
    "    \n",
    "    for index2 in range(index1+1,len(my_list)):\n",
    "        \n",
    "        if my_list[index2]>max_val:  #just greater than korlei descending hoye jaay\n",
    "            max_val=my_list[index2]\n",
    "            max_index=index2\n",
    "    #swapping\n",
    "    #my_list[min_index],my_list[index1]=my_list[index1],my_list[min_index]  #works only in python\n",
    "    temp=max_val\n",
    "    my_list[max_index]=my_list[index1]\n",
    "    my_list[index1]=temp\n",
    "    \n",
    "    \n",
    "print(my_list)"
   ]
  },
  {
   "cell_type": "markdown",
   "metadata": {
    "id": "j4ffr2CAHElt"
   },
   "source": [
    "### Task  3\n",
    "\n",
    "Suppose you have a list named my_list as given below <br/>\n",
    "my_list=[10,1,20,3,6,2,5,11,15,2,12,14,17,18,29] <br/>\n",
    "Now use any of the two sorting techniques you have used above to sort the list in descending order.\n",
    "\n",
    "**Output**<br/>\n",
    "[29, 20, 18, 17, 15, 14, 12, 11, 10, 6, 5, 3, 2, 2, 1]\n"
   ]
  },
  {
   "cell_type": "code",
   "execution_count": 6,
   "metadata": {
    "id": "n2X3YR-_HElt"
   },
   "outputs": [
    {
     "name": "stdout",
     "output_type": "stream",
     "text": [
      "[29, 20, 18, 17, 15, 14, 12, 11, 10, 6, 5, 3, 2, 2, 1]\n"
     ]
    }
   ],
   "source": [
    "#todo\n",
    "my_list =[10,1,20,3,6,2,5,11,15,2,12,14,17,18,29] \n",
    "for index1 in range(0,len(my_list)-1):\n",
    "    for index2 in range(0,len(my_list)-index1-1):\n",
    "        left_num=my_list[index2]\n",
    "        right_num=my_list[index2+1]\n",
    "        if left_num<right_num:\n",
    "            temp=right_num\n",
    "            my_list[index2+1]=my_list[index2] \n",
    "            my_list[index2]=temp\n",
    "print(my_list)\n"
   ]
  },
  {
   "cell_type": "markdown",
   "metadata": {
    "id": "9iYiiTWWHElw"
   },
   "source": [
    "### Task 4\n",
    "\n",
    "Suppose you have a sitting arrangement of the students who will give the final exam in a list. The list contains the last two digits of their student ID as given below.<br/>\n",
    "\n",
    "sitting_list = [10,30,20,70,11,15,22,16,58,100,12,56,70,80] <br/>\n",
    "\n",
    "Now you want to organize the sitting arrangement of the students in your own way. You decide to sort all the students in the even indices of the list in ascending order and all the students in the odd indices of the list in descending order.  <br/>\n",
    "\n",
    "So, write a python program that organizes the list for you in this way.<br/>\n",
    "\n",
    "\n",
    "**Sample Output**<br/>\n",
    "[10, 100, 11, 80, 12, 70, 20, 56, 22, 30, 58, 16, 70, 15]"
   ]
  },
  {
   "cell_type": "code",
   "execution_count": 26,
   "metadata": {
    "id": "nPdUAKDJHElw"
   },
   "outputs": [
    {
     "name": "stdout",
     "output_type": "stream",
     "text": [
      "[10, 100, 11, 80, 12, 70, 20, 56, 22, 30, 58, 16, 70, 15]\n"
     ]
    }
   ],
   "source": [
    "#todo\n",
    "sitting_list = [10,30,20,70,11,15,22,16,58,100,12,56,70,80] \n",
    "list1=[]\n",
    "list2=[]\n",
    "for index in range(len(sitting_list)):\n",
    "    num=sitting_list[index]\n",
    "    if index%2==0:\n",
    "        list1.append(num)\n",
    "    else:\n",
    "        list2.append(num)\n",
    "list1.sort()\n",
    "list2.sort(reverse=True)\n",
    "ans=[]\n",
    "for index2 in range(len(list1)): #len(list2) can be used too as both have same len\n",
    "    ans.append(list1[index2])\n",
    "    ans.append(list2[index2])\n",
    "print(ans)\n",
    "        \n",
    "    \n"
   ]
  },
  {
   "cell_type": "markdown",
   "metadata": {
    "id": "oVR1Tsa0HElz"
   },
   "source": [
    "### Task 5\n",
    "\n",
    "Suppose a list contains marks earned in the courses CSE110, PHY111, and MAT110 of each student consecutively in a nested list form. Your task is to take a course name as input from the user and sort the list based on the marks obtained in that course in order to finally print the names of the students in descending order of marks obtained i.e. from the student who earned the highest marks to the student who earned the lowest. <br/>\n",
    "\n",
    "For example, the list may look like <br/>\n",
    "lst = [ [\"Alan\", 95, 87, 91], [\"Turing\", 92, 90, 83], [\"Elon\", 87, 92, 80], [\"Musk\", 85, 94, 90] ] <br/>\n",
    "where for each nested list, 1st index holds the name of the student, 2nd index is total marks earned in the CSE110 course, 3rd index is PHY111 marks and 4th index is MAT110 marks. \n",
    "\n",
    "=====================================================\n",
    "\n",
    "**Hint:**<br/>\n",
    "You may create a function for sorting, then call it every time when needed instead of rewriting the code.\n",
    "\n",
    "You may get the data in the individual lists from the given nested list.\n",
    "\n",
    "=====================================================\n",
    "\n",
    "**Sample Input 1**<br/>\n",
    "MAT110\n",
    "\n",
    "**Sample Output 1**<br/>\n",
    "Alan <br/>\n",
    "Musk <br/>\n",
    "Turing <br/>\n",
    "Elon\n",
    "\n",
    "**Explanation:**<br/>\n",
    "Here the user gives us \"MAT110\" as the course name. Now, the students Alan, Turing, Elon and Musk earned 91, 83, 80 and 90 marks respectively in this course. If we sort it, Alan got the highest marks of 91 followed by Musk with 90 marks and Turing with 83 marks. Among these 4 students, Elon obtained the lowest marks in the MAT110 course with 80 marks. All of these has been illustrated in our sample output.\n",
    "\n",
    "=====================================================\n",
    "\n",
    "**Sample Input 2**<br/>\n",
    "PHY111\n",
    "\n",
    "**Sample Output 2**<br/>\n",
    "Musk <br/>\n",
    "Elon <br/>\n",
    "Turing <br/>\n",
    "Alan"
   ]
  },
  {
   "cell_type": "code",
   "execution_count": 22,
   "metadata": {
    "id": "539b2P1NHElz"
   },
   "outputs": [
    {
     "name": "stdout",
     "output_type": "stream",
     "text": [
      "PHY111\n",
      "Musk\n",
      "Elon\n",
      "Turing\n",
      "Alan\n"
     ]
    }
   ],
   "source": [
    "#todo\n",
    "lst = [ [\"Alan\", 95, 87, 91], [\"Turing\", 92, 90, 83], [\"Elon\", 87, 92, 80], [\"Musk\", 85, 94, 90] ] \n",
    "names=[]\n",
    "CSE110=[]\n",
    "MAT110=[]\n",
    "PHY111=[]\n",
    "\n",
    "for data in lst:\n",
    "    name=data[0]\n",
    "    cse=data[1]\n",
    "    \n",
    "    phy=data[2]\n",
    "    mat=data[3]\n",
    "    names.append(name)\n",
    "    CSE110.append(cse)\n",
    "    MAT110.append(mat)\n",
    "    PHY111.append(phy)\n",
    "\n",
    "def custom_sorted(names,num):\n",
    "    for index1 in range(0,len(num)-1):\n",
    "        for index2 in range(0,len(num)-index1-1):  \n",
    "            if num[index2]<num[index2+1]:\n",
    "                temp=num[index2+1]\n",
    "                temp_name=names[index2+1]\n",
    "                num[index2+1]=num[index2] #right_num=left_num\n",
    "                names[index2+1]=names[index2]\n",
    "            \n",
    "                num[index2]=temp\n",
    "                names[index2]=temp_name\n",
    "    for i in names:\n",
    "        print(i)\n",
    "    \n",
    "u_input=input()\n",
    "if u_input==\"CSE110\":\n",
    "    custom_sorted(names,CSE110)\n",
    "elif u_input==\"MAT110\":\n",
    "    custom_sorted(names,MAT110)\n",
    "    \n",
    "elif u_input==\"PHY111\":\n",
    "    custom_sorted(names,PHY111)\n",
    "else:\n",
    "    print(\"No answer\")"
   ]
  },
  {
   "cell_type": "markdown",
   "metadata": {
    "id": "B0Rqbyi4HEl2"
   },
   "source": [
    "### Task 6\n",
    "\n",
    "Suppose you have a list named my_list as given below. Your task is to sort the list in ascending order and print the count of numbers that have changed their positions in the process of sorting. <br/>\n",
    "\n",
    "my_list = [4, 2, 3, 1, 6, 5] <br/>\n",
    "\n",
    "Sorted list would be [1, 2, 3, 4, 5, 6] where 4 numbers (4, 1, 6 and 5) have changed their positions. Therefore our sample output here would be 4. Please check if your code is working correctly by changing the above list and using the knowledge given here to verify whether your code gives correct output for all different lists.\n",
    "\n",
    "\n",
    "**Sample Output for the above list**<br/>\n",
    "4"
   ]
  },
  {
   "cell_type": "code",
   "execution_count": 63,
   "metadata": {
    "id": "AMc8jAa7HEl2"
   },
   "outputs": [
    {
     "name": "stdout",
     "output_type": "stream",
     "text": [
      "4\n"
     ]
    }
   ],
   "source": [
    "#todo\n",
    "my_list = [4, 2, 3, 1, 6, 5] \n",
    "list2=sorted(my_list)\n",
    "count=0\n",
    "for index in range(len(my_list)):\n",
    "    num1=my_list[index]\n",
    "    num2=list2[index]\n",
    "    if num1!=num2:\n",
    "        count+=1\n",
    "print(count)\n",
    "    \n",
    "    "
   ]
  },
  {
   "cell_type": "markdown",
   "metadata": {
    "id": "iIH5n0sJHEl5"
   },
   "source": [
    "### Task 7\n",
    "\n",
    "Write a python program that takes two lists from the user, merges the two lists, sorts the resulting list, and then finds the median of the elements in the two lists.\n",
    "\n",
    "=====================================================\n",
    "\n",
    "\n",
    "**Sample Input 1**<br/>\n",
    "list_one = [1, 2, 1, 4] <br/>\n",
    "list_two = [5, 4, 1]\n",
    "\n",
    "\n",
    "**Sample Output 1**<br/>\n",
    "Sorted list = [1, 1, 1, 2, 4, 4, 5] <br/>\n",
    "Median = 2\n",
    "\n",
    "=====================================================\n",
    "\n",
    "\n",
    "**Sample Input 2**<br/>\n",
    "list_one = [1, 7, 9, 10] <br/>\n",
    "list_two = [2, 7, 6, 5]\n",
    "\n",
    "\n",
    "**Sample Output 2**<br/>\n",
    "Sorted list = [1, 2, 5, 6, 7, 7, 9, 10] <br/>\n",
    "Median = 6.5\n",
    "\n"
   ]
  },
  {
   "cell_type": "code",
   "execution_count": 50,
   "metadata": {
    "id": "KsFxC7XbHEl6"
   },
   "outputs": [
    {
     "name": "stdout",
     "output_type": "stream",
     "text": [
      " [1, 7, 9, 10] \n",
      " [2, 7, 6, 5]\n",
      "Sorted list [1, 2, 5, 6, 7, 7, 9, 10]\n",
      "Median 6.5\n"
     ]
    }
   ],
   "source": [
    "#todo\n",
    "list_1=eval(input())\n",
    "list_1.sort()\n",
    "list_2=eval(input())\n",
    "list_2.sort()\n",
    "ans=[]\n",
    "ans.extend(list_1)\n",
    "ans.extend(list_2)\n",
    "ans.sort()\n",
    "print(\"Sorted list\",ans)\n",
    "if len(ans)%2==0:\n",
    "    a=len(ans)//2\n",
    "    var1=ans[a]\n",
    "    var2=ans[a-1]\n",
    "    median=(var1+var2)/2\n",
    "else:\n",
    "    a=len(ans)//2\n",
    "    median=ans[a]\n",
    "print(\"Median\",median)\n"
   ]
  },
  {
   "cell_type": "markdown",
   "metadata": {
    "id": "-XKiwBR1HEl8"
   },
   "source": [
    "### Task 8\n",
    "\n",
    "\n",
    "Write a python program that takes a list from user containing both positive and negative numbers. The program then finds two pairs of values whose summation is closest to zero.\n",
    "\n",
    "=====================================================\n",
    "\n",
    "**Sample Input 1**<br/>\n",
    "list_one = [-10, 15, 2, 4, -4, 7, -8] \n",
    "\n",
    "\n",
    "**Sample Output 1**<br/>\n",
    "Two pairs which have the smallest sum = 4 and -4\n",
    "\n",
    "=====================================================\n",
    "\n",
    "\n",
    "**Sample Input 2**<br/>\n",
    "list_one = [1, -8, 4, -7, -20, 26, 70, -85]\n",
    "\n",
    "\n",
    "**Sample Output 2**<br/>\n",
    "Two pairs which have the smallest sum = 4 and -7"
   ]
  },
  {
   "cell_type": "code",
   "execution_count": 57,
   "metadata": {
    "id": "5ORSGa5GHEl9"
   },
   "outputs": [
    {
     "name": "stdout",
     "output_type": "stream",
     "text": [
      "Two pairs which have the smallest sum = 4 and -7\n"
     ]
    }
   ],
   "source": [
    "#todo\n",
    "total_min=None\n",
    "min_num1=None\n",
    "min_num2=None\n",
    "list1 =  [1, -8, 4, -7, -20, 26, 70, -85] #[-10, 15, 2, 4, -4, 7, -8] \n",
    "for index1 in range(len(list1)-1):\n",
    "    num1=list1[index1]\n",
    "    for index2 in range(index1+1,len(list1)):\n",
    "        num2=list1[index2]\n",
    "        current_total=abs(num1+num2)\n",
    "        if total_min==None:\n",
    "            total_min=current_total\n",
    "            min_num1=num1\n",
    "            min_num2=num2\n",
    "        else:\n",
    "            if current_total<total_min:\n",
    "                total_min=current_total\n",
    "                min_num1=num1\n",
    "                min_num2=num2\n",
    "print(\"Two pairs which have the smallest sum =\",min_num1,\"and\",min_num2)\n",
    "                \n",
    "            "
   ]
  },
  {
   "cell_type": "code",
   "execution_count": null,
   "metadata": {},
   "outputs": [],
   "source": []
  }
 ],
 "metadata": {
  "colab": {
   "collapsed_sections": [],
   "name": "CSE110 Lab Assignment 7 (Sorting and Searching).ipynb",
   "provenance": []
  },
  "kernelspec": {
   "display_name": "Python 3",
   "language": "python",
   "name": "python3"
  },
  "language_info": {
   "codemirror_mode": {
    "name": "ipython",
    "version": 3
   },
   "file_extension": ".py",
   "mimetype": "text/x-python",
   "name": "python",
   "nbconvert_exporter": "python",
   "pygments_lexer": "ipython3",
   "version": "3.8.8"
  }
 },
 "nbformat": 4,
 "nbformat_minor": 1
}
